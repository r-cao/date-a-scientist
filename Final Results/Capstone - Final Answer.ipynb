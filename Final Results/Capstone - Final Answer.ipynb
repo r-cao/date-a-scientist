{
 "cells": [
  {
   "cell_type": "markdown",
   "metadata": {},
   "source": [
    "# Introduction\n",
    "\n",
    "The project will use OkCupid data.\n",
    "It will consist of the following steps:\n",
    "-  Exploratory Data Analysis\n",
    "-  Cleaning of the data/dataframe\n",
    "-  Asking the Regression question.\n",
    "  -  Comparing 2 regression models to solve the question.\n",
    "-  Asking the classification question.\n",
    "  - Comparing 2 classification models to solve the question."
   ]
  },
  {
   "cell_type": "markdown",
   "metadata": {},
   "source": [
    "# 1 - Exploratory Data Analysis (EDA)\n",
    "\n",
    "During this stage we will explore the data using tables and plots.\n",
    "<br> We will use this stage to understand the data that we will be working with."
   ]
  },
  {
   "cell_type": "code",
   "execution_count": 161,
   "metadata": {
    "collapsed": true
   },
   "outputs": [],
   "source": [
    "#importing the packages needed\n",
    "import pandas as pd\n",
    "import numpy as np\n",
    "from math import sqrt\n",
    "import timeit\n",
    "import matplotlib.pyplot as plt\n",
    "from sklearn import preprocessing, metrics\n",
    "from sklearn.metrics import mean_squared_error\n",
    "from sklearn.model_selection import train_test_split\n",
    "from sklearn.metrics import classification_report, confusion_matrix\n",
    "from sklearn.linear_model import LinearRegression\n",
    "from sklearn.neighbors import KNeighborsRegressor, KNeighborsClassifier\n",
    "from sklearn.svm import SVC"
   ]
  },
  {
   "cell_type": "code",
   "execution_count": 162,
   "metadata": {
    "collapsed": true
   },
   "outputs": [],
   "source": [
    "#changing options for the Notebook\n",
    "pd.options.display.max_columns = None\n",
    "%matplotlib inline"
   ]
  },
  {
   "cell_type": "code",
   "execution_count": 163,
   "metadata": {},
   "outputs": [
    {
     "data": {
      "text/html": [
       "<div>\n",
       "<table border=\"1\" class=\"dataframe\">\n",
       "  <thead>\n",
       "    <tr style=\"text-align: right;\">\n",
       "      <th></th>\n",
       "      <th>age</th>\n",
       "      <th>body_type</th>\n",
       "      <th>diet</th>\n",
       "      <th>drinks</th>\n",
       "      <th>drugs</th>\n",
       "      <th>education</th>\n",
       "      <th>essay0</th>\n",
       "      <th>essay1</th>\n",
       "      <th>essay2</th>\n",
       "      <th>essay3</th>\n",
       "      <th>essay4</th>\n",
       "      <th>essay5</th>\n",
       "      <th>essay6</th>\n",
       "      <th>essay7</th>\n",
       "      <th>essay8</th>\n",
       "      <th>essay9</th>\n",
       "      <th>ethnicity</th>\n",
       "      <th>height</th>\n",
       "      <th>income</th>\n",
       "      <th>job</th>\n",
       "      <th>last_online</th>\n",
       "      <th>location</th>\n",
       "      <th>offspring</th>\n",
       "      <th>orientation</th>\n",
       "      <th>pets</th>\n",
       "      <th>religion</th>\n",
       "      <th>sex</th>\n",
       "      <th>sign</th>\n",
       "      <th>smokes</th>\n",
       "      <th>speaks</th>\n",
       "      <th>status</th>\n",
       "    </tr>\n",
       "  </thead>\n",
       "  <tbody>\n",
       "    <tr>\n",
       "      <th>0</th>\n",
       "      <td>22</td>\n",
       "      <td>a little extra</td>\n",
       "      <td>strictly anything</td>\n",
       "      <td>socially</td>\n",
       "      <td>never</td>\n",
       "      <td>working on college/university</td>\n",
       "      <td>about me:&lt;br /&gt;\\n&lt;br /&gt;\\ni would love to think...</td>\n",
       "      <td>currently working as an international agent fo...</td>\n",
       "      <td>making people laugh.&lt;br /&gt;\\nranting about a go...</td>\n",
       "      <td>the way i look. i am a six foot half asian, ha...</td>\n",
       "      <td>books:&lt;br /&gt;\\nabsurdistan, the republic, of mi...</td>\n",
       "      <td>food.&lt;br /&gt;\\nwater.&lt;br /&gt;\\ncell phone.&lt;br /&gt;\\n...</td>\n",
       "      <td>duality and humorous things</td>\n",
       "      <td>trying to find someone to hang out with. i am ...</td>\n",
       "      <td>i am new to california and looking for someone...</td>\n",
       "      <td>you want to be swept off your feet!&lt;br /&gt;\\nyou...</td>\n",
       "      <td>asian, white</td>\n",
       "      <td>75.0</td>\n",
       "      <td>-1</td>\n",
       "      <td>transportation</td>\n",
       "      <td>2012-06-28-20-30</td>\n",
       "      <td>south san francisco, california</td>\n",
       "      <td>doesn&amp;rsquo;t have kids, but might want them</td>\n",
       "      <td>straight</td>\n",
       "      <td>likes dogs and likes cats</td>\n",
       "      <td>agnosticism and very serious about it</td>\n",
       "      <td>m</td>\n",
       "      <td>gemini</td>\n",
       "      <td>sometimes</td>\n",
       "      <td>english</td>\n",
       "      <td>single</td>\n",
       "    </tr>\n",
       "    <tr>\n",
       "      <th>1</th>\n",
       "      <td>35</td>\n",
       "      <td>average</td>\n",
       "      <td>mostly other</td>\n",
       "      <td>often</td>\n",
       "      <td>sometimes</td>\n",
       "      <td>working on space camp</td>\n",
       "      <td>i am a chef: this is what that means.&lt;br /&gt;\\n1...</td>\n",
       "      <td>dedicating everyday to being an unbelievable b...</td>\n",
       "      <td>being silly. having ridiculous amonts of fun w...</td>\n",
       "      <td>NaN</td>\n",
       "      <td>i am die hard christopher moore fan. i don't r...</td>\n",
       "      <td>delicious porkness in all of its glories.&lt;br /...</td>\n",
       "      <td>NaN</td>\n",
       "      <td>NaN</td>\n",
       "      <td>i am very open and will share just about anyth...</td>\n",
       "      <td>NaN</td>\n",
       "      <td>white</td>\n",
       "      <td>70.0</td>\n",
       "      <td>80000</td>\n",
       "      <td>hospitality / travel</td>\n",
       "      <td>2012-06-29-21-41</td>\n",
       "      <td>oakland, california</td>\n",
       "      <td>doesn&amp;rsquo;t have kids, but might want them</td>\n",
       "      <td>straight</td>\n",
       "      <td>likes dogs and likes cats</td>\n",
       "      <td>agnosticism but not too serious about it</td>\n",
       "      <td>m</td>\n",
       "      <td>cancer</td>\n",
       "      <td>no</td>\n",
       "      <td>english (fluently), spanish (poorly), french (...</td>\n",
       "      <td>single</td>\n",
       "    </tr>\n",
       "  </tbody>\n",
       "</table>\n",
       "</div>"
      ],
      "text/plain": [
       "   age       body_type               diet    drinks      drugs  \\\n",
       "0   22  a little extra  strictly anything  socially      never   \n",
       "1   35         average       mostly other     often  sometimes   \n",
       "\n",
       "                       education  \\\n",
       "0  working on college/university   \n",
       "1          working on space camp   \n",
       "\n",
       "                                              essay0  \\\n",
       "0  about me:<br />\\n<br />\\ni would love to think...   \n",
       "1  i am a chef: this is what that means.<br />\\n1...   \n",
       "\n",
       "                                              essay1  \\\n",
       "0  currently working as an international agent fo...   \n",
       "1  dedicating everyday to being an unbelievable b...   \n",
       "\n",
       "                                              essay2  \\\n",
       "0  making people laugh.<br />\\nranting about a go...   \n",
       "1  being silly. having ridiculous amonts of fun w...   \n",
       "\n",
       "                                              essay3  \\\n",
       "0  the way i look. i am a six foot half asian, ha...   \n",
       "1                                                NaN   \n",
       "\n",
       "                                              essay4  \\\n",
       "0  books:<br />\\nabsurdistan, the republic, of mi...   \n",
       "1  i am die hard christopher moore fan. i don't r...   \n",
       "\n",
       "                                              essay5  \\\n",
       "0  food.<br />\\nwater.<br />\\ncell phone.<br />\\n...   \n",
       "1  delicious porkness in all of its glories.<br /...   \n",
       "\n",
       "                        essay6  \\\n",
       "0  duality and humorous things   \n",
       "1                          NaN   \n",
       "\n",
       "                                              essay7  \\\n",
       "0  trying to find someone to hang out with. i am ...   \n",
       "1                                                NaN   \n",
       "\n",
       "                                              essay8  \\\n",
       "0  i am new to california and looking for someone...   \n",
       "1  i am very open and will share just about anyth...   \n",
       "\n",
       "                                              essay9     ethnicity  height  \\\n",
       "0  you want to be swept off your feet!<br />\\nyou...  asian, white    75.0   \n",
       "1                                                NaN         white    70.0   \n",
       "\n",
       "   income                   job       last_online  \\\n",
       "0      -1        transportation  2012-06-28-20-30   \n",
       "1   80000  hospitality / travel  2012-06-29-21-41   \n",
       "\n",
       "                          location  \\\n",
       "0  south san francisco, california   \n",
       "1              oakland, california   \n",
       "\n",
       "                                      offspring orientation  \\\n",
       "0  doesn&rsquo;t have kids, but might want them    straight   \n",
       "1  doesn&rsquo;t have kids, but might want them    straight   \n",
       "\n",
       "                        pets                                  religion sex  \\\n",
       "0  likes dogs and likes cats     agnosticism and very serious about it   m   \n",
       "1  likes dogs and likes cats  agnosticism but not too serious about it   m   \n",
       "\n",
       "     sign     smokes                                             speaks  \\\n",
       "0  gemini  sometimes                                            english   \n",
       "1  cancer         no  english (fluently), spanish (poorly), french (...   \n",
       "\n",
       "   status  \n",
       "0  single  \n",
       "1  single  "
      ]
     },
     "execution_count": 163,
     "metadata": {},
     "output_type": "execute_result"
    }
   ],
   "source": [
    "#loading the data into a dataframe\n",
    "df = pd.read_csv('profiles.csv')\n",
    "df.head(2)"
   ]
  },
  {
   "cell_type": "code",
   "execution_count": 164,
   "metadata": {},
   "outputs": [
    {
     "name": "stdout",
     "output_type": "stream",
     "text": [
      "<class 'pandas.core.frame.DataFrame'>\n",
      "RangeIndex: 59946 entries, 0 to 59945\n",
      "Data columns (total 31 columns):\n",
      "age            59946 non-null int64\n",
      "body_type      54650 non-null object\n",
      "diet           35551 non-null object\n",
      "drinks         56961 non-null object\n",
      "drugs          45866 non-null object\n",
      "education      53318 non-null object\n",
      "essay0         54461 non-null object\n",
      "essay1         52375 non-null object\n",
      "essay2         50308 non-null object\n",
      "essay3         48470 non-null object\n",
      "essay4         49409 non-null object\n",
      "essay5         49099 non-null object\n",
      "essay6         46175 non-null object\n",
      "essay7         47496 non-null object\n",
      "essay8         40732 non-null object\n",
      "essay9         47344 non-null object\n",
      "ethnicity      54266 non-null object\n",
      "height         59943 non-null float64\n",
      "income         59946 non-null int64\n",
      "job            51748 non-null object\n",
      "last_online    59946 non-null object\n",
      "location       59946 non-null object\n",
      "offspring      24385 non-null object\n",
      "orientation    59946 non-null object\n",
      "pets           40025 non-null object\n",
      "religion       39720 non-null object\n",
      "sex            59946 non-null object\n",
      "sign           48890 non-null object\n",
      "smokes         54434 non-null object\n",
      "speaks         59896 non-null object\n",
      "status         59946 non-null object\n",
      "dtypes: float64(1), int64(2), object(28)\n",
      "memory usage: 14.2+ MB\n",
      "\n"
     ]
    },
    {
     "data": {
      "text/plain": [
       "age            -0.000000\n",
       "body_type       8.834618\n",
       "diet           40.694959\n",
       "drinks          4.979482\n",
       "drugs          23.487806\n",
       "education      11.056618\n",
       "essay0          9.149902\n",
       "essay1         12.629700\n",
       "essay2         16.077803\n",
       "essay3         19.143896\n",
       "essay4         17.577486\n",
       "essay5         18.094618\n",
       "essay6         22.972342\n",
       "essay7         20.768692\n",
       "essay8         32.052180\n",
       "essay9         21.022253\n",
       "ethnicity       9.475194\n",
       "height          0.005005\n",
       "income         -0.000000\n",
       "job            13.675641\n",
       "last_online    -0.000000\n",
       "location       -0.000000\n",
       "offspring      59.321723\n",
       "orientation    -0.000000\n",
       "pets           33.231575\n",
       "religion       33.740366\n",
       "sex            -0.000000\n",
       "sign           18.443266\n",
       "smokes          9.194942\n",
       "speaks          0.083408\n",
       "status         -0.000000\n",
       "dtype: float64"
      ]
     },
     "execution_count": 164,
     "metadata": {},
     "output_type": "execute_result"
    }
   ],
   "source": [
    "df.info()\n",
    "print('')\n",
    "#finding the percent of each column that is null -- 40% of diet is null, 59% of offspring is null\n",
    "#(df.isnull().sum() / df.shape[0]) * 100\n",
    "((df.count() / df.shape[0]) - 1) * -100"
   ]
  },
  {
   "cell_type": "markdown",
   "metadata": {},
   "source": [
    "There are 2 columns that contain mising data in 40% or more of the entries. The columns are:\n",
    "\n",
    "-  Diet (40% is empty)\n",
    "-  Offsprint (59% is empty)"
   ]
  },
  {
   "cell_type": "code",
   "execution_count": 165,
   "metadata": {},
   "outputs": [
    {
     "data": {
      "text/plain": [
       "-1          48442\n",
       " 20000       2952\n",
       " 30000       1048\n",
       " 40000       1005\n",
       " 50000        975\n",
       " 60000        736\n",
       " 70000        707\n",
       " 80000       1111\n",
       " 100000      1621\n",
       " 150000       631\n",
       " 250000       149\n",
       " 500000        48\n",
       " 1000000      521\n",
       "Name: income, dtype: int64"
      ]
     },
     "execution_count": 165,
     "metadata": {},
     "output_type": "execute_result"
    }
   ],
   "source": [
    "#let's analyze the income column to see the values that we have\n",
    "df.income.value_counts().sort_index()"
   ]
  },
  {
   "cell_type": "markdown",
   "metadata": {},
   "source": [
    "The income column also contains 48,442 entries (~81%) with a value of -1. We will assume that is because the data was missing when filling out the profile.\n",
    "There are 521 people who report an income of 1 Million"
   ]
  },
  {
   "cell_type": "code",
   "execution_count": 166,
   "metadata": {},
   "outputs": [
    {
     "data": {
      "text/plain": [
       "other                                7589\n",
       "student                              4882\n",
       "science / tech / engineering         4848\n",
       "computer / hardware / software       4709\n",
       "artistic / musical / writer          4439\n",
       "sales / marketing / biz dev          4391\n",
       "medicine / health                    3680\n",
       "education / academia                 3513\n",
       "executive / management               2373\n",
       "banking / financial / real estate    2266\n",
       "entertainment / media                2250\n",
       "law / legal services                 1381\n",
       "hospitality / travel                 1364\n",
       "construction / craftsmanship         1021\n",
       "clerical / administrative             805\n",
       "political / government                708\n",
       "rather not say                        436\n",
       "transportation                        366\n",
       "unemployed                            273\n",
       "retired                               250\n",
       "military                              204\n",
       "Name: job, dtype: int64"
      ]
     },
     "execution_count": 166,
     "metadata": {},
     "output_type": "execute_result"
    }
   ],
   "source": [
    "#what kind of jobs do people have?\n",
    "df.job.value_counts()"
   ]
  },
  {
   "cell_type": "code",
   "execution_count": 167,
   "metadata": {},
   "outputs": [
    {
     "data": {
      "text/plain": [
       "1.0        1\n",
       "3.0        1\n",
       "4.0        1\n",
       "6.0        1\n",
       "8.0        1\n",
       "9.0        1\n",
       "26.0       1\n",
       "36.0      11\n",
       "37.0       2\n",
       "42.0       1\n",
       "43.0       2\n",
       "47.0       1\n",
       "48.0       2\n",
       "49.0       1\n",
       "50.0       2\n",
       "51.0       1\n",
       "52.0       1\n",
       "53.0       5\n",
       "54.0       3\n",
       "55.0       6\n",
       "56.0       8\n",
       "57.0      17\n",
       "58.0      53\n",
       "59.0     212\n",
       "60.0     791\n",
       "61.0    1090\n",
       "62.0    2244\n",
       "63.0    2767\n",
       "64.0    3865\n",
       "65.0    3794\n",
       "66.0    4759\n",
       "67.0    5354\n",
       "68.0    5449\n",
       "69.0    5179\n",
       "70.0    6074\n",
       "71.0    4826\n",
       "72.0    5315\n",
       "73.0    2815\n",
       "74.0    2547\n",
       "75.0    1382\n",
       "76.0     783\n",
       "77.0     280\n",
       "78.0     132\n",
       "79.0      57\n",
       "80.0      27\n",
       "81.0      11\n",
       "82.0      11\n",
       "83.0      12\n",
       "84.0       9\n",
       "85.0       1\n",
       "86.0       1\n",
       "87.0       1\n",
       "88.0       2\n",
       "89.0       1\n",
       "90.0       1\n",
       "91.0       3\n",
       "92.0       1\n",
       "93.0       1\n",
       "94.0       3\n",
       "95.0      20\n",
       "Name: height, dtype: int64"
      ]
     },
     "execution_count": 167,
     "metadata": {},
     "output_type": "execute_result"
    }
   ],
   "source": [
    "#review the height data\n",
    "df.height.value_counts().sort_index()"
   ]
  },
  {
   "cell_type": "markdown",
   "metadata": {},
   "source": [
    "Some interesting and likely nonsensical values are appearing in the data. We have people with height of 1 in and 95 inches.\n",
    "<br> Due to the amount of strange values we will set some criteria regarding the height of people we want. We will only consider people who entered heights between 60 inches (~5 feet) and 80 inches (~6.6 feet)"
   ]
  },
  {
   "cell_type": "code",
   "execution_count": 168,
   "metadata": {},
   "outputs": [
    {
     "data": {
      "text/plain": [
       "413"
      ]
     },
     "execution_count": 168,
     "metadata": {},
     "output_type": "execute_result"
    }
   ],
   "source": [
    "#let's see how many rows will be removed if we use the above criteria\n",
    "len(df[(df['height'] < 60) | (df['height'] > 80)])"
   ]
  },
  {
   "cell_type": "markdown",
   "metadata": {},
   "source": [
    "To get a summary of the data we will print the mode of all of the values in the dataset. This will let us get a quick understanding of the values that are entered the most in the profiles.\n",
    "<br> This will be done for each of the sexes in the dataset."
   ]
  },
  {
   "cell_type": "code",
   "execution_count": 169,
   "metadata": {},
   "outputs": [
    {
     "name": "stdout",
     "output_type": "stream",
     "text": [
      "age                                                  25\n",
      "body_type                                       average\n",
      "diet                                    mostly anything\n",
      "drinks                                         socially\n",
      "drugs                                             never\n",
      "education             graduated from college/university\n",
      "essay0                                                .\n",
      "essay1                                     enjoying it.\n",
      "essay2                                        listening\n",
      "essay3                                         my smile\n",
      "essay4                                           ask me\n",
      "essay5                                           family\n",
      "essay6                                        my future\n",
      "essay7                                 out with friends\n",
      "essay8                                          nothing\n",
      "essay9                                     you want to.\n",
      "ethnicity                                         white\n",
      "height                                               64\n",
      "income                                               -1\n",
      "job                                               other\n",
      "last_online                            2012-06-29-22-42\n",
      "location                      san francisco, california\n",
      "offspring                       doesn&rsquo;t have kids\n",
      "orientation                                    straight\n",
      "pets                          likes dogs and likes cats\n",
      "religion                                          other\n",
      "sex                                                   f\n",
      "sign           gemini and it&rsquo;s fun to think about\n",
      "smokes                                               no\n",
      "speaks                                          english\n",
      "status                                           single\n",
      "Name: (f, 0), dtype: object\n",
      "\n",
      "\n",
      "age                                           26\n",
      "body_type                               athletic\n",
      "diet                             mostly anything\n",
      "drinks                                  socially\n",
      "drugs                                      never\n",
      "education      graduated from college/university\n",
      "essay0                                         .\n",
      "essay1                              enjoying it.\n",
      "essay2                                 listening\n",
      "essay3                                  my smile\n",
      "essay4                                    ask me\n",
      "essay5                                    ask me\n",
      "essay6                                the future\n",
      "essay7                          out with friends\n",
      "essay8                                    ask me\n",
      "essay9                              you want to.\n",
      "ethnicity                                  white\n",
      "height                                        70\n",
      "income                                        -1\n",
      "job               computer / hardware / software\n",
      "last_online                     2012-06-30-11-55\n",
      "location               san francisco, california\n",
      "offspring                doesn&rsquo;t have kids\n",
      "orientation                             straight\n",
      "pets                   likes dogs and likes cats\n",
      "religion       agnosticism and laughing about it\n",
      "sex                                            m\n",
      "sign           virgo but it doesn&rsquo;t matter\n",
      "smokes                                        no\n",
      "speaks                                   english\n",
      "status                                    single\n",
      "Name: (m, 0), dtype: object\n"
     ]
    }
   ],
   "source": [
    "dfg = df.groupby('sex').apply(lambda x: x.mode())\n",
    "\n",
    "#unable to cleanly print the modes of each sex and thus will print it out using .loc\n",
    "print(dfg.loc[('f', 0)])\n",
    "print('\\n')\n",
    "print(dfg.loc[('m',0)])"
   ]
  },
  {
   "cell_type": "markdown",
   "metadata": {},
   "source": [
    "From the above we are able to find the following summary of the average profile by sex:\n",
    "\n",
    "<br>The **average female** is around 25 years old, with average body type, graduated from university/college, a height of 64 inches (~5.3 feet),  did not report her income, has a job title of \"other\", of white ethnicity, with no kids, straight, doesn't smoke, single and speaks english.\n",
    "\n",
    "<br>The **average male** is around 26 years old, with an athletic body type, graduated from university/college, has a height of 70 inches (~5.8 feet), did not report his income, has a job title of \"computer / hardware / software\", of white ethnicity, with no kids, straight and speaks english."
   ]
  },
  {
   "cell_type": "code",
   "execution_count": 170,
   "metadata": {},
   "outputs": [
    {
     "data": {
      "text/html": [
       "<div>\n",
       "<table border=\"1\" class=\"dataframe\">\n",
       "  <thead>\n",
       "    <tr style=\"text-align: right;\">\n",
       "      <th>col_0</th>\n",
       "      <th>sex</th>\n",
       "    </tr>\n",
       "    <tr>\n",
       "      <th>sex</th>\n",
       "      <th></th>\n",
       "    </tr>\n",
       "  </thead>\n",
       "  <tbody>\n",
       "    <tr>\n",
       "      <th>f</th>\n",
       "      <td>24117</td>\n",
       "    </tr>\n",
       "    <tr>\n",
       "      <th>m</th>\n",
       "      <td>35829</td>\n",
       "    </tr>\n",
       "  </tbody>\n",
       "</table>\n",
       "</div>"
      ],
      "text/plain": [
       "col_0    sex\n",
       "sex         \n",
       "f      24117\n",
       "m      35829"
      ]
     },
     "execution_count": 170,
     "metadata": {},
     "output_type": "execute_result"
    }
   ],
   "source": [
    "pd.crosstab(index=df['sex'], columns='sex')"
   ]
  },
  {
   "cell_type": "markdown",
   "metadata": {},
   "source": [
    "24,117 (or 40%) of the profiles belong to females."
   ]
  },
  {
   "cell_type": "code",
   "execution_count": 171,
   "metadata": {},
   "outputs": [
    {
     "name": "stdout",
     "output_type": "stream",
     "text": [
      "20000     2952\n",
      "100000    1621\n",
      "80000     1111\n",
      "30000     1048\n",
      "40000     1005\n",
      "50000      975\n",
      "60000      736\n",
      "70000      707\n",
      "150000     631\n",
      "250000     149\n",
      "500000      48\n",
      "Name: income, dtype: int64\n"
     ]
    },
    {
     "data": {
      "image/png": "[encoded data removed]",
      "text/plain": [
       "<matplotlib.figure.Figure at 0x280d1630>"
      ]
     },
     "metadata": {},
     "output_type": "display_data"
    },
    {
     "data": {
      "text/html": [
       "<div>\n",
       "<table border=\"1\" class=\"dataframe\">\n",
       "  <thead>\n",
       "    <tr style=\"text-align: right;\">\n",
       "      <th></th>\n",
       "      <th>income</th>\n",
       "    </tr>\n",
       "    <tr>\n",
       "      <th>sex</th>\n",
       "      <th></th>\n",
       "    </tr>\n",
       "  </thead>\n",
       "  <tbody>\n",
       "    <tr>\n",
       "      <th>f</th>\n",
       "      <td>48423.69</td>\n",
       "    </tr>\n",
       "    <tr>\n",
       "      <th>m</th>\n",
       "      <td>66950.59</td>\n",
       "    </tr>\n",
       "  </tbody>\n",
       "</table>\n",
       "</div>"
      ],
      "text/plain": [
       "       income\n",
       "sex          \n",
       "f    48423.69\n",
       "m    66950.59"
      ]
     },
     "execution_count": 171,
     "metadata": {},
     "output_type": "execute_result"
    }
   ],
   "source": [
    "#there are negative income values as well as values of 1 million we will remove them to \n",
    "#get a good understanding of income based on sex\n",
    "inc_pos = df[(df['income'] > 0) & (df['income'] < 1000000)]\n",
    "print(inc_pos.income.value_counts())\n",
    "\n",
    "gp = inc_pos[['sex', 'income']].groupby('sex')#.boxplot(subplots=False)\n",
    "#plt.plot()\n",
    "#print(gp.describe())\n",
    "gp.boxplot(subplots = False, return_type='axes')\n",
    "plt.show()\n",
    "gp.mean().round(2)"
   ]
  },
  {
   "cell_type": "markdown",
   "metadata": {},
   "source": [
    "From the above information, we can see that *males make on average 28% more than females*.\n",
    "\n",
    "On average:\n",
    "\n",
    "Females make \\$48,424\n",
    "<br>Males make \\$66,951"
   ]
  },
  {
   "cell_type": "code",
   "execution_count": 172,
   "metadata": {},
   "outputs": [
    {
     "name": "stdout",
     "output_type": "stream",
     "text": [
      "109    1\n",
      "110    1\n",
      "Name: age, dtype: int64\n",
      "\n",
      "\n",
      "18-20     1873\n",
      "21-30    30017\n",
      "31-40    17727\n",
      "41-50     6745\n",
      "51-60     2618\n",
      "61-70      964\n",
      "70+          2\n",
      "dtype: int64\n"
     ]
    },
    {
     "data": {
      "text/plain": [
       "<matplotlib.axes._subplots.AxesSubplot at 0x309d04e0>"
      ]
     },
     "execution_count": 172,
     "metadata": {},
     "output_type": "execute_result"
    },
    {
     "data": {
      "image/png": "[encoded data removed]",
      "text/plain": [
       "<matplotlib.figure.Figure at 0x36951588>"
      ]
     },
     "metadata": {},
     "output_type": "display_data"
    },
    {
     "data": {
      "image/png": "[encoded data removed]",
      "text/plain": [
       "<matplotlib.figure.Figure at 0x3237a668>"
      ]
     },
     "metadata": {},
     "output_type": "display_data"
    }
   ],
   "source": [
    "df.age.value_counts(sort=False).sort_index()\n",
    "print(df[df['age'] > 70].age.value_counts().sort_index())\n",
    "print('\\n')\n",
    "#we have 2 people who are over 100 years old, seems a bit strange in this dataset\n",
    "df['age-bins'] = pd.cut(df.age, [17,20,30,40,50,60,70,150], labels=[\"18-20\", \"21-30\", \"31-40\", \"41-50\", \"51-60\", \"61-70\", \"70+\"])\n",
    "\n",
    "age_cts = df['age-bins'].value_counts()\n",
    "\n",
    "print(age_cts.sort_index())\n",
    "\n",
    "#visualizing age group distribution in data\n",
    "pd.value_counts(df['age-bins']).sort_index().plot.bar()\n",
    "#plt.show()\n",
    "\n",
    "#visualizing age groups by sex\n",
    "df.groupby('age-bins')['sex'].value_counts().unstack().plot.bar()"
   ]
  },
  {
   "cell_type": "markdown",
   "metadata": {},
   "source": [
    "2 profiles indicate that they are 109 and 110 years old.\n",
    "\n",
    "From the plots we can see that most (**30,017 or ~50%**) of the profiles indicate an age bettwen 21 and 30.\n",
    "<br>There are about 3,584 people over 50 years old."
   ]
  },
  {
   "cell_type": "code",
   "execution_count": 173,
   "metadata": {},
   "outputs": [
    {
     "data": {
      "image/png": "[encoded data removed]",
      "text/plain": [
       "<matplotlib.figure.Figure at 0x36876630>"
      ]
     },
     "metadata": {},
     "output_type": "display_data"
    }
   ],
   "source": [
    "#histogram of height by sex\n",
    "fig = plt.figure(figsize=(7,7))\n",
    "ax = plt.subplot(2,1,1)\n",
    "\n",
    "height_sex = df[['height', 'sex']]\n",
    "height_sex = height_sex[(df['height'] >= 60) & (df['height'] <= 80)]\n",
    "males = height_sex[height_sex['sex'] == 'm']['height']\n",
    "#print(males.value_counts().sort_index)\n",
    "bins = np.linspace(60,80,num=10)\n",
    "ax.hist(males,bins,label='Males')\n",
    "\n",
    "females = height_sex[height_sex['sex'] == 'f']['height']\n",
    "ax.hist(females, bins,label='Females')\n",
    "\n",
    "ax.legend()\n",
    "plt.show()"
   ]
  },
  {
   "cell_type": "markdown",
   "metadata": {},
   "source": [
    "From the above plot we can see that females reported height is around 62.5 to 65 inches (~ 5.2 feet to 5.4) whereas males show a peak at around 70 inches or (~ 5.8 feet)"
   ]
  },
  {
   "cell_type": "code",
   "execution_count": 174,
   "metadata": {},
   "outputs": [
    {
     "data": {
      "text/plain": [
       "graduated from college/university    23959\n",
       "graduated from masters program        8961\n",
       "working on college/university         5712\n",
       "working on masters program            1683\n",
       "graduated from two-year college       1531\n",
       "graduated from high school            1428\n",
       "graduated from ph.d program           1272\n",
       "graduated from law school             1122\n",
       "working on two-year college           1074\n",
       "dropped out of college/university      995\n",
       "working on ph.d program                983\n",
       "college/university                     801\n",
       "graduated from space camp              657\n",
       "dropped out of space camp              523\n",
       "graduated from med school              446\n",
       "working on space camp                  445\n",
       "working on law school                  269\n",
       "two-year college                       222\n",
       "working on med school                  212\n",
       "dropped out of two-year college        191\n",
       "dropped out of masters program         140\n",
       "masters program                        136\n",
       "dropped out of ph.d program            127\n",
       "dropped out of high school             102\n",
       "high school                             96\n",
       "working on high school                  87\n",
       "space camp                              58\n",
       "ph.d program                            26\n",
       "law school                              19\n",
       "dropped out of law school               18\n",
       "dropped out of med school               12\n",
       "med school                              11\n",
       "Name: education, dtype: int64"
      ]
     },
     "execution_count": 174,
     "metadata": {},
     "output_type": "execute_result"
    }
   ],
   "source": [
    "#look at the education from the profiles\n",
    "df.education.value_counts()"
   ]
  },
  {
   "cell_type": "markdown",
   "metadata": {},
   "source": [
    "1,683 people have reported some sort of education or work in *space camp*"
   ]
  },
  {
   "cell_type": "markdown",
   "metadata": {},
   "source": [
    "# 2 - Cleaning the DataFrame\n",
    "\n",
    "Based on the EDA from above we will need to do the following:\n",
    "-  Remove clients with an age over 100, we will assume those individuals did not want to include their age.\n",
    "-  Remove income > 1000000, they are outlier that can possibly skew the analysis\n",
    "-  ONLY include the rows with height >= 60 and <= 80, since these are height that make sense.\n",
    "-  We will remove the *offspring* column due to the amount of missing data"
   ]
  },
  {
   "cell_type": "code",
   "execution_count": 175,
   "metadata": {},
   "outputs": [
    {
     "name": "stdout",
     "output_type": "stream",
     "text": [
      "original: 59946\n",
      "Age < 100: 59944\n",
      "Income < 1 Million: 59423\n",
      "height between 60 and 80 inches: 59022\n",
      "\n",
      "\n",
      "Original # columns: 32\n",
      "Clean # columns: 31\n"
     ]
    }
   ],
   "source": [
    "print('original: %s' %len(df))\n",
    "#removing clients over age 100 -> removes 2 rows\n",
    "df_clean = df[df['age'] < 100]\n",
    "print('Age < 100: %s' %len(df_clean))\n",
    "\n",
    "#removing income over 1 million -> removes 521 rows\n",
    "df_clean = df_clean[df_clean['income'] < 1000000]\n",
    "print('Income < 1 Million: %s' %len(df_clean))\n",
    "\n",
    "#only include columns with height >= 60 and <= 80 -> removes 401 rows\n",
    "df_clean = df_clean[(df_clean['height'] >= 60) & (df_clean['height'] <= 80)]\n",
    "print('height between 60 and 80 inches: %s' %len(df_clean))\n",
    "\n",
    "#removing the offspring column\n",
    "print('\\n')\n",
    "print('Original # columns: %s' %len(df_clean.columns))\n",
    "df_clean = df_clean.drop('offspring', axis=1)\n",
    "print('Clean # columns: %s' %len(df_clean.columns))"
   ]
  },
  {
   "cell_type": "code",
   "execution_count": 176,
   "metadata": {},
   "outputs": [
    {
     "data": {
      "text/html": [
       "<div>\n",
       "<table border=\"1\" class=\"dataframe\">\n",
       "  <thead>\n",
       "    <tr style=\"text-align: right;\">\n",
       "      <th></th>\n",
       "      <th>age</th>\n",
       "      <th>body_type</th>\n",
       "      <th>diet</th>\n",
       "      <th>drinks</th>\n",
       "      <th>drugs</th>\n",
       "      <th>education</th>\n",
       "      <th>essay0</th>\n",
       "      <th>essay1</th>\n",
       "      <th>essay2</th>\n",
       "      <th>essay3</th>\n",
       "      <th>essay4</th>\n",
       "      <th>essay5</th>\n",
       "      <th>essay6</th>\n",
       "      <th>essay7</th>\n",
       "      <th>essay8</th>\n",
       "      <th>essay9</th>\n",
       "      <th>ethnicity</th>\n",
       "      <th>height</th>\n",
       "      <th>income</th>\n",
       "      <th>job</th>\n",
       "      <th>last_online</th>\n",
       "      <th>location</th>\n",
       "      <th>orientation</th>\n",
       "      <th>pets</th>\n",
       "      <th>religion</th>\n",
       "      <th>sex</th>\n",
       "      <th>sign</th>\n",
       "      <th>smokes</th>\n",
       "      <th>speaks</th>\n",
       "      <th>status</th>\n",
       "      <th>age-bins</th>\n",
       "    </tr>\n",
       "  </thead>\n",
       "  <tbody>\n",
       "    <tr>\n",
       "      <th>0</th>\n",
       "      <td>22</td>\n",
       "      <td>a little extra</td>\n",
       "      <td>strictly anything</td>\n",
       "      <td>socially</td>\n",
       "      <td>never</td>\n",
       "      <td>working on college/university</td>\n",
       "      <td>about me:&lt;br /&gt;\\n&lt;br /&gt;\\ni would love to think...</td>\n",
       "      <td>currently working as an international agent fo...</td>\n",
       "      <td>making people laugh.&lt;br /&gt;\\nranting about a go...</td>\n",
       "      <td>the way i look. i am a six foot half asian, ha...</td>\n",
       "      <td>books:&lt;br /&gt;\\nabsurdistan, the republic, of mi...</td>\n",
       "      <td>food.&lt;br /&gt;\\nwater.&lt;br /&gt;\\ncell phone.&lt;br /&gt;\\n...</td>\n",
       "      <td>duality and humorous things</td>\n",
       "      <td>trying to find someone to hang out with. i am ...</td>\n",
       "      <td>i am new to california and looking for someone...</td>\n",
       "      <td>you want to be swept off your feet!&lt;br /&gt;\\nyou...</td>\n",
       "      <td>asian, white</td>\n",
       "      <td>75.0</td>\n",
       "      <td>-1</td>\n",
       "      <td>transportation</td>\n",
       "      <td>2012-06-28-20-30</td>\n",
       "      <td>south san francisco, california</td>\n",
       "      <td>straight</td>\n",
       "      <td>likes dogs and likes cats</td>\n",
       "      <td>agnosticism and very serious about it</td>\n",
       "      <td>m</td>\n",
       "      <td>gemini</td>\n",
       "      <td>sometimes</td>\n",
       "      <td>english</td>\n",
       "      <td>single</td>\n",
       "      <td>21-30</td>\n",
       "    </tr>\n",
       "    <tr>\n",
       "      <th>1</th>\n",
       "      <td>35</td>\n",
       "      <td>average</td>\n",
       "      <td>mostly other</td>\n",
       "      <td>often</td>\n",
       "      <td>sometimes</td>\n",
       "      <td>working on space camp</td>\n",
       "      <td>i am a chef: this is what that means.&lt;br /&gt;\\n1...</td>\n",
       "      <td>dedicating everyday to being an unbelievable b...</td>\n",
       "      <td>being silly. having ridiculous amonts of fun w...</td>\n",
       "      <td>NaN</td>\n",
       "      <td>i am die hard christopher moore fan. i don't r...</td>\n",
       "      <td>delicious porkness in all of its glories.&lt;br /...</td>\n",
       "      <td>NaN</td>\n",
       "      <td>NaN</td>\n",
       "      <td>i am very open and will share just about anyth...</td>\n",
       "      <td>NaN</td>\n",
       "      <td>white</td>\n",
       "      <td>70.0</td>\n",
       "      <td>80000</td>\n",
       "      <td>hospitality / travel</td>\n",
       "      <td>2012-06-29-21-41</td>\n",
       "      <td>oakland, california</td>\n",
       "      <td>straight</td>\n",
       "      <td>likes dogs and likes cats</td>\n",
       "      <td>agnosticism but not too serious about it</td>\n",
       "      <td>m</td>\n",
       "      <td>cancer</td>\n",
       "      <td>no</td>\n",
       "      <td>english (fluently), spanish (poorly), french (...</td>\n",
       "      <td>single</td>\n",
       "      <td>31-40</td>\n",
       "    </tr>\n",
       "  </tbody>\n",
       "</table>\n",
       "</div>"
      ],
      "text/plain": [
       "   age       body_type               diet    drinks      drugs  \\\n",
       "0   22  a little extra  strictly anything  socially      never   \n",
       "1   35         average       mostly other     often  sometimes   \n",
       "\n",
       "                       education  \\\n",
       "0  working on college/university   \n",
       "1          working on space camp   \n",
       "\n",
       "                                              essay0  \\\n",
       "0  about me:<br />\\n<br />\\ni would love to think...   \n",
       "1  i am a chef: this is what that means.<br />\\n1...   \n",
       "\n",
       "                                              essay1  \\\n",
       "0  currently working as an international agent fo...   \n",
       "1  dedicating everyday to being an unbelievable b...   \n",
       "\n",
       "                                              essay2  \\\n",
       "0  making people laugh.<br />\\nranting about a go...   \n",
       "1  being silly. having ridiculous amonts of fun w...   \n",
       "\n",
       "                                              essay3  \\\n",
       "0  the way i look. i am a six foot half asian, ha...   \n",
       "1                                                NaN   \n",
       "\n",
       "                                              essay4  \\\n",
       "0  books:<br />\\nabsurdistan, the republic, of mi...   \n",
       "1  i am die hard christopher moore fan. i don't r...   \n",
       "\n",
       "                                              essay5  \\\n",
       "0  food.<br />\\nwater.<br />\\ncell phone.<br />\\n...   \n",
       "1  delicious porkness in all of its glories.<br /...   \n",
       "\n",
       "                        essay6  \\\n",
       "0  duality and humorous things   \n",
       "1                          NaN   \n",
       "\n",
       "                                              essay7  \\\n",
       "0  trying to find someone to hang out with. i am ...   \n",
       "1                                                NaN   \n",
       "\n",
       "                                              essay8  \\\n",
       "0  i am new to california and looking for someone...   \n",
       "1  i am very open and will share just about anyth...   \n",
       "\n",
       "                                              essay9     ethnicity  height  \\\n",
       "0  you want to be swept off your feet!<br />\\nyou...  asian, white    75.0   \n",
       "1                                                NaN         white    70.0   \n",
       "\n",
       "   income                   job       last_online  \\\n",
       "0      -1        transportation  2012-06-28-20-30   \n",
       "1   80000  hospitality / travel  2012-06-29-21-41   \n",
       "\n",
       "                          location orientation                       pets  \\\n",
       "0  south san francisco, california    straight  likes dogs and likes cats   \n",
       "1              oakland, california    straight  likes dogs and likes cats   \n",
       "\n",
       "                                   religion sex    sign     smokes  \\\n",
       "0     agnosticism and very serious about it   m  gemini  sometimes   \n",
       "1  agnosticism but not too serious about it   m  cancer         no   \n",
       "\n",
       "                                              speaks  status age-bins  \n",
       "0                                            english  single    21-30  \n",
       "1  english (fluently), spanish (poorly), french (...  single    31-40  "
      ]
     },
     "execution_count": 176,
     "metadata": {},
     "output_type": "execute_result"
    }
   ],
   "source": [
    "df_clean.head(2)"
   ]
  },
  {
   "cell_type": "markdown",
   "metadata": {},
   "source": [
    "# 3 - Data Enrichment\n",
    "\n",
    "When doing the EDA we have already created the 'age-group' column.\n",
    "<br> Below we will clean some of the column that are needed to be used as features. This will include mapping those column to numbers or creating dummy variables to use for our models."
   ]
  },
  {
   "cell_type": "code",
   "execution_count": 177,
   "metadata": {},
   "outputs": [
    {
     "data": {
      "text/plain": [
       "-1.0    13884\n",
       " 0.0    37236\n",
       " 1.0     7537\n",
       " 2.0      365\n",
       "Name: drug_mapping, dtype: int64"
      ]
     },
     "execution_count": 177,
     "metadata": {},
     "output_type": "execute_result"
    }
   ],
   "source": [
    "#cleaning the drugs column and mapping it\n",
    "drug_map = {'never':0, 'sometimes':1, 'often':2}\n",
    "df_clean['drug_mapping'] = df_clean.drugs.map(drug_map).fillna(-1)\n",
    "df_clean.drug_mapping.value_counts().sort_index()\n",
    "#print(df_clean[['drugs', 'drug_mapping']].tail())"
   ]
  },
  {
   "cell_type": "code",
   "execution_count": 178,
   "metadata": {},
   "outputs": [
    {
     "name": "stdout",
     "output_type": "stream",
     "text": [
      "\n",
      "\n"
     ]
    },
    {
     "data": {
      "text/plain": [
       "fit      39061\n",
       "unfit    14743\n",
       "Name: body_type, dtype: int64"
      ]
     },
     "execution_count": 178,
     "metadata": {},
     "output_type": "execute_result"
    }
   ],
   "source": [
    "#cleaning body map\n",
    "df_clean.head(2)\n",
    "#print(df_clean.body_type.value_counts())\n",
    "print('\\n')\n",
    "\n",
    "#there are too many values for body_type to make it easier we will group them\n",
    "#body_map = {'average':0, 'thin':1, 'skinny':1, 'used up':1, 'curvy':2, 'a little extra':2, 'full figured':2, \\\n",
    "#                 'overweight':2, 'athletic':3, 'fit':3, 'jacked':3, 'rather not say':4}\n",
    "\n",
    "df_clean['body_type'] = df_clean.body_type.str.replace('a little extra', 'curvy').str.replace('full figured', 'curvy') \\\n",
    ".str.replace('overweight', 'curvy').str.replace('athletic', 'fit').str.replace('jacked', 'fit').str.replace('thin', 'skinny')\n",
    "\n",
    "\n",
    "df_clean['body_type'] = df_clean.body_type.str.replace('curvy', 'unfit').str.replace('average', 'fit')\\\n",
    ".str.replace('skinny', 'unfit').str.replace('used up', 'unfit').str.replace('rather not say', 'unfit')\n",
    "\n",
    "df_clean.body_type.value_counts().sort_index()\n",
    "\n",
    "#df_clean['body_mapping'] = df_clean.body_type.map(body_map).fillna(-1)\n",
    "#print(df_clean.body_mapping.value_counts().sort_index())"
   ]
  },
  {
   "cell_type": "code",
   "execution_count": 179,
   "metadata": {},
   "outputs": [
    {
     "name": "stdout",
     "output_type": "stream",
     "text": [
      "mostly anything        16364\n",
      "anything                6107\n",
      "strictly anything       4993\n",
      "mostly vegetarian       3389\n",
      "mostly other             978\n",
      "strictly vegetarian      862\n",
      "vegetarian               660\n",
      "strictly other           418\n",
      "mostly vegan             327\n",
      "other                    321\n",
      "strictly vegan           223\n",
      "vegan                    133\n",
      "mostly kosher             81\n",
      "mostly halal              43\n",
      "strictly halal            16\n",
      "strictly kosher           13\n",
      "kosher                    11\n",
      "halal                      9\n",
      "Name: diet, dtype: int64\n",
      "\n",
      "\n",
      "59022\n"
     ]
    },
    {
     "data": {
      "text/plain": [
       "-1.0    24074\n",
       " 0.0    27464\n",
       " 1.0     4911\n",
       " 2.0     1717\n",
       " 3.0      683\n",
       " 4.0      105\n",
       " 5.0       68\n",
       "Name: diet_mapping, dtype: int64"
      ]
     },
     "execution_count": 179,
     "metadata": {},
     "output_type": "execute_result"
    }
   ],
   "source": [
    "#cleaning diet\n",
    "print(df_clean.diet.value_counts())\n",
    "print('\\n')\n",
    "print(len(df_clean))\n",
    "\n",
    "diet_map = {'mostly anything':0, 'anything':0, 'strictly anything':0, 'mostly vegetarian': 1, \\\n",
    "'strictly vegetarian':1, 'vegetarian':1, 'mostly other':2, 'strictly other':2, 'other':2, \\\n",
    "'mostly vegan':3, 'strictly vegan':3, 'vegan':3, 'mostly kosher':4, 'strictly kosher':4, \\\n",
    "'kosher':4, 'mostly halal':5, 'strictly halal':5, 'halal':5}\n",
    "\n",
    "df_clean['diet_mapping'] = df_clean.diet.map(diet_map).fillna(-1)\n",
    "df_clean.diet_mapping.value_counts().sort_index()"
   ]
  },
  {
   "cell_type": "code",
   "execution_count": 180,
   "metadata": {},
   "outputs": [
    {
     "name": "stdout",
     "output_type": "stream",
     "text": [
      "-1.0     2925\n",
      " 0.0     3195\n",
      " 1.0     5868\n",
      " 2.0    41252\n",
      " 3.0     5049\n",
      " 4.0      443\n",
      " 5.0      290\n",
      "Name: drink_mapping, dtype: int64\n"
     ]
    }
   ],
   "source": [
    "#cleaning the drinks column\n",
    "df_clean.drinks.value_counts()\n",
    "\n",
    "drink_map = {'not at all':0, 'rarely':1, 'socially':2, 'often':3, 'very often':4, 'desperately':5}\n",
    "df_clean['drink_mapping'] = df_clean.drinks.map(drink_map).fillna(-1)\n",
    "print(df_clean.drink_mapping.value_counts().sort_index())"
   ]
  },
  {
   "cell_type": "code",
   "execution_count": 181,
   "metadata": {},
   "outputs": [
    {
     "data": {
      "text/plain": [
       "0    23681\n",
       "1    35341\n",
       "Name: sex_mapping, dtype: int64"
      ]
     },
     "execution_count": 181,
     "metadata": {},
     "output_type": "execute_result"
    }
   ],
   "source": [
    "#cleaning sex\n",
    "sex_map = {'f':0, 'm':1}\n",
    "df_clean['sex_mapping'] = df_clean.sex.map(sex_map).fillna(-1)\n",
    "df_clean.sex_mapping.value_counts().sort_index()"
   ]
  },
  {
   "cell_type": "code",
   "execution_count": 182,
   "metadata": {},
   "outputs": [
    {
     "data": {
      "text/plain": [
       "anything      27464\n",
       "vegetarian     4911\n",
       "other          1717\n",
       "vegan           683\n",
       "kosher          105\n",
       "halal            68\n",
       "Name: diet, dtype: int64"
      ]
     },
     "execution_count": 182,
     "metadata": {},
     "output_type": "execute_result"
    }
   ],
   "source": [
    "df_clean.diet.value_counts().sort_index()\n",
    "\n",
    "df_clean.diet = df_clean.diet.str.replace('mostly anything', 'anything').str.replace('strictly anything', 'anything')\\\n",
    ".str.replace('mostly halal', 'halal').str.replace('strictly halal', 'halal')\\\n",
    ".str.replace('mostly kosher', 'kosher').str.replace('strictly kosher', 'kosher')\\\n",
    ".str.replace('mostly other', 'other').str.replace('strictly other', 'other')\\\n",
    ".str.replace('mostly vegan', 'vegan').str.replace('strictly vegan', 'vegan')\\\n",
    ".str.replace('mostly vegetarian', 'vegetarian').str.replace('strictly vegetarian', 'vegetarian')\n",
    "\n",
    "df_clean.diet.value_counts()#.sort_index()"
   ]
  },
  {
   "cell_type": "code",
   "execution_count": 183,
   "metadata": {},
   "outputs": [
    {
     "data": {
      "text/plain": [
       "no           43332\n",
       "sometimes     8113\n",
       "yes           2162\n",
       "Name: smokes, dtype: int64"
      ]
     },
     "execution_count": 183,
     "metadata": {},
     "output_type": "execute_result"
    }
   ],
   "source": [
    "df_clean.smokes.value_counts()\n",
    "\n",
    "df_clean.smokes = df_clean.smokes.str.replace('when drinking', 'sometimes').str.replace('trying to quit', 'sometimes')\n",
    "\n",
    "df_clean.smokes.value_counts()"
   ]
  },
  {
   "cell_type": "code",
   "execution_count": 184,
   "metadata": {},
   "outputs": [
    {
     "data": {
      "text/plain": [
       "Index([u'age', u'body_type', u'diet', u'drinks', u'drugs', u'education',\n",
       "       u'essay0', u'essay1', u'essay2', u'essay3', u'essay4', u'essay5',\n",
       "       u'essay6', u'essay7', u'essay8', u'essay9', u'ethnicity', u'height',\n",
       "       u'income', u'job', u'last_online', u'location', u'orientation', u'pets',\n",
       "       u'religion', u'sex', u'sign', u'smokes', u'speaks', u'status',\n",
       "       u'age-bins', u'drug_mapping', u'diet_mapping', u'drink_mapping',\n",
       "       u'sex_mapping'],\n",
       "      dtype='object')"
      ]
     },
     "execution_count": 184,
     "metadata": {},
     "output_type": "execute_result"
    }
   ],
   "source": [
    "df_clean.columns"
   ]
  },
  {
   "cell_type": "code",
   "execution_count": 185,
   "metadata": {},
   "outputs": [
    {
     "data": {
      "text/html": [
       "<div>\n",
       "<table border=\"1\" class=\"dataframe\">\n",
       "  <thead>\n",
       "    <tr style=\"text-align: right;\">\n",
       "      <th></th>\n",
       "      <th>age</th>\n",
       "      <th>body_type</th>\n",
       "      <th>diet</th>\n",
       "      <th>drinks</th>\n",
       "      <th>drugs</th>\n",
       "      <th>education</th>\n",
       "      <th>essay0</th>\n",
       "      <th>essay1</th>\n",
       "      <th>essay2</th>\n",
       "      <th>essay3</th>\n",
       "      <th>essay4</th>\n",
       "      <th>essay5</th>\n",
       "      <th>essay6</th>\n",
       "      <th>essay7</th>\n",
       "      <th>essay8</th>\n",
       "      <th>essay9</th>\n",
       "      <th>ethnicity</th>\n",
       "      <th>height</th>\n",
       "      <th>income</th>\n",
       "      <th>job</th>\n",
       "      <th>last_online</th>\n",
       "      <th>location</th>\n",
       "      <th>orientation</th>\n",
       "      <th>pets</th>\n",
       "      <th>religion</th>\n",
       "      <th>sex</th>\n",
       "      <th>sign</th>\n",
       "      <th>smokes</th>\n",
       "      <th>speaks</th>\n",
       "      <th>status</th>\n",
       "      <th>age-bins</th>\n",
       "      <th>drug_mapping</th>\n",
       "      <th>diet_mapping</th>\n",
       "      <th>drink_mapping</th>\n",
       "      <th>sex_mapping</th>\n",
       "    </tr>\n",
       "  </thead>\n",
       "  <tbody>\n",
       "    <tr>\n",
       "      <th>0</th>\n",
       "      <td>22</td>\n",
       "      <td>unfit</td>\n",
       "      <td>anything</td>\n",
       "      <td>socially</td>\n",
       "      <td>never</td>\n",
       "      <td>working on college/university</td>\n",
       "      <td>about me:&lt;br /&gt;\\n&lt;br /&gt;\\ni would love to think...</td>\n",
       "      <td>currently working as an international agent fo...</td>\n",
       "      <td>making people laugh.&lt;br /&gt;\\nranting about a go...</td>\n",
       "      <td>the way i look. i am a six foot half asian, ha...</td>\n",
       "      <td>books:&lt;br /&gt;\\nabsurdistan, the republic, of mi...</td>\n",
       "      <td>food.&lt;br /&gt;\\nwater.&lt;br /&gt;\\ncell phone.&lt;br /&gt;\\n...</td>\n",
       "      <td>duality and humorous things</td>\n",
       "      <td>trying to find someone to hang out with. i am ...</td>\n",
       "      <td>i am new to california and looking for someone...</td>\n",
       "      <td>you want to be swept off your feet!&lt;br /&gt;\\nyou...</td>\n",
       "      <td>asian, white</td>\n",
       "      <td>75.0</td>\n",
       "      <td>-1</td>\n",
       "      <td>transportation</td>\n",
       "      <td>2012-06-28-20-30</td>\n",
       "      <td>south san francisco, california</td>\n",
       "      <td>straight</td>\n",
       "      <td>likes dogs and likes cats</td>\n",
       "      <td>agnosticism and very serious about it</td>\n",
       "      <td>m</td>\n",
       "      <td>gemini</td>\n",
       "      <td>sometimes</td>\n",
       "      <td>english</td>\n",
       "      <td>single</td>\n",
       "      <td>21-30</td>\n",
       "      <td>0.0</td>\n",
       "      <td>0.0</td>\n",
       "      <td>2.0</td>\n",
       "      <td>1</td>\n",
       "    </tr>\n",
       "    <tr>\n",
       "      <th>1</th>\n",
       "      <td>35</td>\n",
       "      <td>fit</td>\n",
       "      <td>other</td>\n",
       "      <td>often</td>\n",
       "      <td>sometimes</td>\n",
       "      <td>working on space camp</td>\n",
       "      <td>i am a chef: this is what that means.&lt;br /&gt;\\n1...</td>\n",
       "      <td>dedicating everyday to being an unbelievable b...</td>\n",
       "      <td>being silly. having ridiculous amonts of fun w...</td>\n",
       "      <td>NaN</td>\n",
       "      <td>i am die hard christopher moore fan. i don't r...</td>\n",
       "      <td>delicious porkness in all of its glories.&lt;br /...</td>\n",
       "      <td>NaN</td>\n",
       "      <td>NaN</td>\n",
       "      <td>i am very open and will share just about anyth...</td>\n",
       "      <td>NaN</td>\n",
       "      <td>white</td>\n",
       "      <td>70.0</td>\n",
       "      <td>80000</td>\n",
       "      <td>hospitality / travel</td>\n",
       "      <td>2012-06-29-21-41</td>\n",
       "      <td>oakland, california</td>\n",
       "      <td>straight</td>\n",
       "      <td>likes dogs and likes cats</td>\n",
       "      <td>agnosticism but not too serious about it</td>\n",
       "      <td>m</td>\n",
       "      <td>cancer</td>\n",
       "      <td>no</td>\n",
       "      <td>english (fluently), spanish (poorly), french (...</td>\n",
       "      <td>single</td>\n",
       "      <td>31-40</td>\n",
       "      <td>1.0</td>\n",
       "      <td>2.0</td>\n",
       "      <td>3.0</td>\n",
       "      <td>1</td>\n",
       "    </tr>\n",
       "  </tbody>\n",
       "</table>\n",
       "</div>"
      ],
      "text/plain": [
       "   age body_type      diet    drinks      drugs  \\\n",
       "0   22     unfit  anything  socially      never   \n",
       "1   35       fit     other     often  sometimes   \n",
       "\n",
       "                       education  \\\n",
       "0  working on college/university   \n",
       "1          working on space camp   \n",
       "\n",
       "                                              essay0  \\\n",
       "0  about me:<br />\\n<br />\\ni would love to think...   \n",
       "1  i am a chef: this is what that means.<br />\\n1...   \n",
       "\n",
       "                                              essay1  \\\n",
       "0  currently working as an international agent fo...   \n",
       "1  dedicating everyday to being an unbelievable b...   \n",
       "\n",
       "                                              essay2  \\\n",
       "0  making people laugh.<br />\\nranting about a go...   \n",
       "1  being silly. having ridiculous amonts of fun w...   \n",
       "\n",
       "                                              essay3  \\\n",
       "0  the way i look. i am a six foot half asian, ha...   \n",
       "1                                                NaN   \n",
       "\n",
       "                                              essay4  \\\n",
       "0  books:<br />\\nabsurdistan, the republic, of mi...   \n",
       "1  i am die hard christopher moore fan. i don't r...   \n",
       "\n",
       "                                              essay5  \\\n",
       "0  food.<br />\\nwater.<br />\\ncell phone.<br />\\n...   \n",
       "1  delicious porkness in all of its glories.<br /...   \n",
       "\n",
       "                        essay6  \\\n",
       "0  duality and humorous things   \n",
       "1                          NaN   \n",
       "\n",
       "                                              essay7  \\\n",
       "0  trying to find someone to hang out with. i am ...   \n",
       "1                                                NaN   \n",
       "\n",
       "                                              essay8  \\\n",
       "0  i am new to california and looking for someone...   \n",
       "1  i am very open and will share just about anyth...   \n",
       "\n",
       "                                              essay9     ethnicity  height  \\\n",
       "0  you want to be swept off your feet!<br />\\nyou...  asian, white    75.0   \n",
       "1                                                NaN         white    70.0   \n",
       "\n",
       "   income                   job       last_online  \\\n",
       "0      -1        transportation  2012-06-28-20-30   \n",
       "1   80000  hospitality / travel  2012-06-29-21-41   \n",
       "\n",
       "                          location orientation                       pets  \\\n",
       "0  south san francisco, california    straight  likes dogs and likes cats   \n",
       "1              oakland, california    straight  likes dogs and likes cats   \n",
       "\n",
       "                                   religion sex    sign     smokes  \\\n",
       "0     agnosticism and very serious about it   m  gemini  sometimes   \n",
       "1  agnosticism but not too serious about it   m  cancer         no   \n",
       "\n",
       "                                              speaks  status age-bins  \\\n",
       "0                                            english  single    21-30   \n",
       "1  english (fluently), spanish (poorly), french (...  single    31-40   \n",
       "\n",
       "   drug_mapping  diet_mapping  drink_mapping  sex_mapping  \n",
       "0           0.0           0.0            2.0            1  \n",
       "1           1.0           2.0            3.0            1  "
      ]
     },
     "execution_count": 185,
     "metadata": {},
     "output_type": "execute_result"
    }
   ],
   "source": [
    "df_clean.head(2)"
   ]
  },
  {
   "cell_type": "code",
   "execution_count": 186,
   "metadata": {},
   "outputs": [
    {
     "name": "stdout",
     "output_type": "stream",
     "text": [
      "59022\n",
      "59022\n",
      "59022\n"
     ]
    }
   ],
   "source": [
    "print(len(df_clean.age))\n",
    "print(len(df_clean.sex))\n",
    "print(len(df_clean.income))"
   ]
  },
  {
   "cell_type": "markdown",
   "metadata": {},
   "source": [
    "# 4 - Regression 1 (Multiple Linear Regression)"
   ]
  },
  {
   "cell_type": "code",
   "execution_count": 201,
   "metadata": {},
   "outputs": [
    {
     "data": {
      "text/plain": [
       "-1.0     5218\n",
       " 0.0    14743\n",
       " 1.0    39061\n",
       "Name: body_mapping, dtype: int64"
      ]
     },
     "execution_count": 201,
     "metadata": {},
     "output_type": "execute_result"
    }
   ],
   "source": [
    "body_map = {'unfit':0, 'fit':1}\n",
    "df_clean['body_mapping'] = df_clean.body_type.map(body_map).fillna(-1)\n",
    "df_clean.body_mapping.value_counts().sort_index()"
   ]
  },
  {
   "cell_type": "code",
   "execution_count": 202,
   "metadata": {},
   "outputs": [
    {
     "name": "stdout",
     "output_type": "stream",
     "text": [
      "20000\n",
      "150000\n"
     ]
    }
   ],
   "source": [
    "df_regression = df_clean[['age', 'sex_mapping', 'body_mapping', 'income']]\n",
    "df_regression = df_regression[(df_regression['income'] != -1)]\n",
    "\n",
    "df_regression = df_regression[df_regression['income'] < 200000]\n",
    "print(df_regression.income.min())\n",
    "print(df_regression.income.max())"
   ]
  },
  {
   "cell_type": "code",
   "execution_count": 192,
   "metadata": {},
   "outputs": [
    {
     "data": {
      "image/png": "[encoded data removed]",
      "text/plain": [
       "<matplotlib.figure.Figure at 0x2f7b9b70>"
      ]
     },
     "metadata": {},
     "output_type": "display_data"
    }
   ],
   "source": [
    "df_age = df_regression['age']\n",
    "df_inc = df_regression['income']\n",
    "\n",
    "plt.scatter(df_regression[['age']], df_regression[['income']], alpha=0.2)\n",
    "plt.show()"
   ]
  },
  {
   "cell_type": "code",
   "execution_count": 203,
   "metadata": {},
   "outputs": [
    {
     "data": {
      "text/html": [
       "<div>\n",
       "<table border=\"1\" class=\"dataframe\">\n",
       "  <thead>\n",
       "    <tr style=\"text-align: right;\">\n",
       "      <th></th>\n",
       "      <th>age</th>\n",
       "      <th>sex_mapping</th>\n",
       "      <th>body_mapping</th>\n",
       "      <th>income</th>\n",
       "    </tr>\n",
       "  </thead>\n",
       "  <tbody>\n",
       "    <tr>\n",
       "      <th>1</th>\n",
       "      <td>35</td>\n",
       "      <td>1</td>\n",
       "      <td>1.0</td>\n",
       "      <td>80000</td>\n",
       "    </tr>\n",
       "    <tr>\n",
       "      <th>3</th>\n",
       "      <td>23</td>\n",
       "      <td>1</td>\n",
       "      <td>0.0</td>\n",
       "      <td>20000</td>\n",
       "    </tr>\n",
       "  </tbody>\n",
       "</table>\n",
       "</div>"
      ],
      "text/plain": [
       "   age  sex_mapping  body_mapping  income\n",
       "1   35            1           1.0   80000\n",
       "3   23            1           0.0   20000"
      ]
     },
     "execution_count": 203,
     "metadata": {},
     "output_type": "execute_result"
    }
   ],
   "source": [
    "df_regression.head(2)"
   ]
  },
  {
   "cell_type": "code",
   "execution_count": 210,
   "metadata": {},
   "outputs": [
    {
     "name": "stdout",
     "output_type": "stream",
     "text": [
      "[[  3.50000000e+01   1.00000000e+00   1.00000000e+00   8.00000000e+04]\n",
      " [  2.30000000e+01   1.00000000e+00   0.00000000e+00   2.00000000e+04]\n",
      " [  2.80000000e+01   1.00000000e+00   1.00000000e+00   4.00000000e+04]\n",
      " ..., \n",
      " [  4.10000000e+01   1.00000000e+00   0.00000000e+00   7.00000000e+04]\n",
      " [  4.30000000e+01   0.00000000e+00   1.00000000e+00   8.00000000e+04]\n",
      " [  4.20000000e+01   1.00000000e+00   1.00000000e+00   1.00000000e+05]]\n",
      "----------\n",
      "MinMaxScaler(copy=True, feature_range=(0, 1))\n",
      "----------\n",
      "[[ 0.33333333  1.          1.          0.46153846]\n",
      " [ 0.09803922  1.          0.5         0.        ]\n",
      " [ 0.19607843  1.          1.          0.15384615]\n",
      " ..., \n",
      " [ 0.45098039  1.          0.5         0.38461538]\n",
      " [ 0.49019608  0.          1.          0.46153846]\n",
      " [ 0.47058824  1.          1.          0.61538462]]\n",
      "----------\n"
     ]
    }
   ],
   "source": [
    "#normalizing the data\n",
    "x = df_regression.values\n",
    "print(x)\n",
    "print('-'*10)\n",
    "min_max = preprocessing.MinMaxScaler()\n",
    "print(min_max)\n",
    "print('-'*10)\n",
    "x_scaled = min_max.fit_transform(x)\n",
    "print(x_scaled)\n",
    "print('-'*10)\n",
    "\n",
    "df_normalized = pd.DataFrame(x_scaled, columns=df_regression.columns)"
   ]
  },
  {
   "cell_type": "code",
   "execution_count": 211,
   "metadata": {},
   "outputs": [
    {
     "name": "stdout",
     "output_type": "stream",
     "text": [
      "----------\n",
      "        age  sex_mapping  body_mapping    income\n",
      "0  0.333333          1.0           1.0  0.461538\n",
      "1  0.098039          1.0           0.5  0.000000\n"
     ]
    }
   ],
   "source": [
    "print('-'*10)\n",
    "print(df_normalized.head(2))"
   ]
  },
  {
   "cell_type": "code",
   "execution_count": 216,
   "metadata": {},
   "outputs": [
    {
     "name": "stdout",
     "output_type": "stream",
     "text": [
      "Training Time: 0.016000 s\n",
      "Prediction time: 0.015000 s\n",
      "\n",
      "\n",
      "[[ 0.27550206]\n",
      " [ 0.25383952]\n",
      " [ 0.25597119]\n",
      " ..., \n",
      " [ 0.32189338]\n",
      " [ 0.28283163]\n",
      " [ 0.29777302]]\n",
      "\n",
      "\n"
     ]
    }
   ],
   "source": [
    "x_val = df_normalized[['income', 'sex_mapping', 'body_mapping']]\n",
    "y_val = df_normalized[['age']]\n",
    "\n",
    "#split data into training and testing\n",
    "x_train, x_test, y_train, y_test = train_test_split(x_val, y_val, train_size = 0.8, test_size = 0.2, random_state = 60)\n",
    "\n",
    "#create the Linear RegressionModel\n",
    "linear_model = LinearRegression()\n",
    "\n",
    "t0 = timeit.timeit()\n",
    "print(\"Training Time: %f\" %round(t0, 3) + \" s\")\n",
    "\n",
    "#fitting the model to the data\n",
    "linear_model.fit(x_train, y_train)\n",
    "\n",
    "y_predict = linear_model.predict(x_test)\n",
    "\n",
    "t1 = timeit.timeit()\n",
    "print(\"Prediction time: %f\" %round(t1, 3) + \" s\")\n",
    "\n",
    "print('\\n')\n",
    "print(y_predict)\n",
    "print('\\n')"
   ]
  },
  {
   "cell_type": "code",
   "execution_count": 218,
   "metadata": {},
   "outputs": [
    {
     "name": "stdout",
     "output_type": "stream",
     "text": [
      "('Model coefficients: ', array([[ 0.25390138, -0.04180183, -0.01465913]]))\n",
      "Model Accuracy (R^2) : 0.124963\n",
      "Mean Squared Error: 0.032033\n"
     ]
    }
   ],
   "source": [
    "#Model coefficients - checking which variable carries more weight\n",
    "print('Model coefficients: ', linear_model.coef_)\n",
    "\n",
    "#Checking the models accuracy using R^2\n",
    "print('Model Accuracy (R^2) : %f' % linear_model.score(x_test, y_test))\n",
    "\n",
    "#calculating the MSE\n",
    "#mse_calc = np.mean((y_val - linear_model.predict(x_val))**2)\n",
    "#print(mse_calc)\n",
    "\n",
    "#print('Mean Squared Error: ', mse_calc)\n",
    "print('Mean Squared Error: %f' % mean_squared_error(y_val, linear_model.predict(x_val)))\n",
    "#print(y_val)\n",
    "#print(linear_model.predict(x_val))"
   ]
  },
  {
   "cell_type": "markdown",
   "metadata": {},
   "source": [
    "We did a simple multiple linear regression using income, sex and body type to predict age.\n",
    "\n",
    "<br> This regression does not work very well.\n",
    "\n",
    "<br>From the above outputs we can see that the models R^2 is not very good, it is only 12.5%. \n",
    "\n",
    "<br>Using the coefficient values from the model we can also tell that: income impact income more than the body type and sex of the person. This is because the income coefficient is 0.2539 whereas the sex coefficient is -0.041 and the body type is -0.015."
   ]
  },
  {
   "cell_type": "markdown",
   "metadata": {},
   "source": [
    "# 5 - Regression Model 2 (KNN Regression)"
   ]
  },
  {
   "cell_type": "code",
   "execution_count": 219,
   "metadata": {},
   "outputs": [
    {
     "name": "stdout",
     "output_type": "stream",
     "text": [
      "[0.22422666277309117, 0.2031636170412806, 0.19902634416250947, 0.19425586405503897, 0.19234832184043596, 0.1938122235307591, 0.19277723920358747, 0.19099296550713343, 0.1908102753103121, 0.18869011375682765, 0.1878615943463806, 0.18855104360001113, 0.18632501363047946, 0.18613026426994336, 0.18657080299323664, 0.18646875456728432, 0.1863241292118819, 0.18601095147849786, 0.18592126265565878, 0.18526726165438204, 0.1847694504525354, 0.18487983945300798, 0.18469836226226224, 0.18460873328415117, 0.18451149610172354]\n"
     ]
    }
   ],
   "source": [
    "#What is the best value for k?\n",
    "\n",
    "scores_rmse = []\n",
    "\n",
    "# We use a loop through the range 1 to 26\n",
    "# We append the scores to scores_mse\n",
    "for k in range(1,26):\n",
    "    #print(k)\n",
    "    knn = KNeighborsRegressor(n_neighbors=k)\n",
    "    model = knn.fit(x_train, y_train)\n",
    "    pred = knn.predict(x_test)\n",
    "    error = sqrt(mean_squared_error(y_test, pred))\n",
    "    scores_rmse.append(error)\n",
    "    #print(error)\n",
    "\n",
    "print(scores_rmse)"
   ]
  },
  {
   "cell_type": "code",
   "execution_count": 225,
   "metadata": {},
   "outputs": [
    {
     "name": "stdout",
     "output_type": "stream",
     "text": [
      "Training Time: 0.015000 s\n",
      "Prediction time: 0.011000 s\n",
      "\n",
      "\n",
      "(array([[ 0.29551821],\n",
      "       [ 0.19887955],\n",
      "       [ 0.25770308],\n",
      "       ..., \n",
      "       [ 0.30112045],\n",
      "       [ 0.28011204],\n",
      "       [ 0.34593838]]), array([[ 0.03921569],\n",
      "       [ 0.19607843],\n",
      "       [ 0.09803922],\n",
      "       ..., \n",
      "       [ 0.19607843],\n",
      "       [ 0.09803922],\n",
      "       [ 0.39215686]]))\n",
      "\n",
      "\n",
      "Model Accuracy (R^2) : 0.130319\n"
     ]
    }
   ],
   "source": [
    "#create the regressor\n",
    "regressor = KNeighborsRegressor(n_neighbors = 14, weights = 'distance')\n",
    "\n",
    "\n",
    "#fitting the model\n",
    "regressor.fit(x_train, y_train)\n",
    "\n",
    "t0 = timeit.timeit()\n",
    "print(\"Training Time: %f\" %round(t0, 3) + \" s\")\n",
    "\n",
    "predictions = regressor.predict(x_test)\n",
    "t1 = timeit.timeit()\n",
    "print(\"Prediction time: %f\" %round(t1, 3) + \" s\")\n",
    "print('\\n')\n",
    "\n",
    "print(predictions, y_test.values)\n",
    "print('\\n')\n",
    "\n",
    "#Checking the models accuracy using R^2\n",
    "print('Model Accuracy (R^2) : %f' % regressor.score(x_test, y_test))"
   ]
  },
  {
   "cell_type": "code",
   "execution_count": 221,
   "metadata": {},
   "outputs": [
    {
     "data": {
      "text/plain": [
       "<matplotlib.axes._subplots.AxesSubplot at 0x255b4048>"
      ]
     },
     "execution_count": 221,
     "metadata": {},
     "output_type": "execute_result"
    },
    {
     "data": {
      "image/png": "[encoded data removed]",
      "text/plain": [
       "<matplotlib.figure.Figure at 0x2f1b2668>"
      ]
     },
     "metadata": {},
     "output_type": "display_data"
    }
   ],
   "source": [
    "curve = pd.DataFrame(scores_rmse) #elbow curve \n",
    "curve.plot()"
   ]
  },
  {
   "cell_type": "markdown",
   "metadata": {},
   "source": [
    "From above we are able to see that 14 as the number of neighbors is a good value. It is not the one with the lowest rmse but we are trying to find the balance between the number of neighbors and a low rmse. \n",
    "\n",
    "<br>The change of rmse between 12 neighbors and 20+ is very minimal and therefore we have chose 14 as the optimal number of neighbors."
   ]
  },
  {
   "cell_type": "markdown",
   "metadata": {},
   "source": [
    "# 6 - Classification Model 1 (KNN)"
   ]
  },
  {
   "cell_type": "code",
   "execution_count": 107,
   "metadata": {},
   "outputs": [
    {
     "data": {
      "text/html": [
       "<div>\n",
       "<table border=\"1\" class=\"dataframe\">\n",
       "  <thead>\n",
       "    <tr style=\"text-align: right;\">\n",
       "      <th></th>\n",
       "      <th>sex</th>\n",
       "      <th>diet</th>\n",
       "      <th>body_type</th>\n",
       "      <th>drinks</th>\n",
       "      <th>drugs</th>\n",
       "      <th>smokes</th>\n",
       "    </tr>\n",
       "  </thead>\n",
       "  <tbody>\n",
       "    <tr>\n",
       "      <th>0</th>\n",
       "      <td>m</td>\n",
       "      <td>anything</td>\n",
       "      <td>unfit</td>\n",
       "      <td>socially</td>\n",
       "      <td>never</td>\n",
       "      <td>sometimes</td>\n",
       "    </tr>\n",
       "    <tr>\n",
       "      <th>1</th>\n",
       "      <td>m</td>\n",
       "      <td>other</td>\n",
       "      <td>fit</td>\n",
       "      <td>often</td>\n",
       "      <td>sometimes</td>\n",
       "      <td>no</td>\n",
       "    </tr>\n",
       "  </tbody>\n",
       "</table>\n",
       "</div>"
      ],
      "text/plain": [
       "  sex      diet body_type    drinks      drugs     smokes\n",
       "0   m  anything     unfit  socially      never  sometimes\n",
       "1   m     other       fit     often  sometimes         no"
      ]
     },
     "execution_count": 107,
     "metadata": {},
     "output_type": "execute_result"
    }
   ],
   "source": [
    "df_clean_classif = df_clean[['sex', 'diet', 'body_type', 'drinks', 'drugs', 'smokes']]\n",
    "df_clean_classif.head(2)"
   ]
  },
  {
   "cell_type": "code",
   "execution_count": 108,
   "metadata": {},
   "outputs": [
    {
     "data": {
      "text/html": [
       "<div>\n",
       "<table border=\"1\" class=\"dataframe\">\n",
       "  <thead>\n",
       "    <tr style=\"text-align: right;\">\n",
       "      <th></th>\n",
       "      <th>sex_f</th>\n",
       "      <th>sex_m</th>\n",
       "      <th>diet_anything</th>\n",
       "      <th>diet_halal</th>\n",
       "      <th>diet_kosher</th>\n",
       "      <th>diet_other</th>\n",
       "      <th>diet_vegan</th>\n",
       "      <th>diet_vegetarian</th>\n",
       "      <th>drinks_desperately</th>\n",
       "      <th>drinks_not at all</th>\n",
       "      <th>drinks_often</th>\n",
       "      <th>drinks_rarely</th>\n",
       "      <th>drinks_socially</th>\n",
       "      <th>drinks_very often</th>\n",
       "      <th>drugs_never</th>\n",
       "      <th>drugs_often</th>\n",
       "      <th>drugs_sometimes</th>\n",
       "      <th>smokes_no</th>\n",
       "      <th>smokes_sometimes</th>\n",
       "      <th>smokes_yes</th>\n",
       "      <th>body_type_fit</th>\n",
       "      <th>body_type_unfit</th>\n",
       "    </tr>\n",
       "  </thead>\n",
       "  <tbody>\n",
       "    <tr>\n",
       "      <th>0</th>\n",
       "      <td>0.0</td>\n",
       "      <td>1.0</td>\n",
       "      <td>1.0</td>\n",
       "      <td>0.0</td>\n",
       "      <td>0.0</td>\n",
       "      <td>0.0</td>\n",
       "      <td>0.0</td>\n",
       "      <td>0.0</td>\n",
       "      <td>0.0</td>\n",
       "      <td>0.0</td>\n",
       "      <td>0.0</td>\n",
       "      <td>0.0</td>\n",
       "      <td>1.0</td>\n",
       "      <td>0.0</td>\n",
       "      <td>1.0</td>\n",
       "      <td>0.0</td>\n",
       "      <td>0.0</td>\n",
       "      <td>0.0</td>\n",
       "      <td>1.0</td>\n",
       "      <td>0.0</td>\n",
       "      <td>0.0</td>\n",
       "      <td>1.0</td>\n",
       "    </tr>\n",
       "    <tr>\n",
       "      <th>1</th>\n",
       "      <td>0.0</td>\n",
       "      <td>1.0</td>\n",
       "      <td>0.0</td>\n",
       "      <td>0.0</td>\n",
       "      <td>0.0</td>\n",
       "      <td>1.0</td>\n",
       "      <td>0.0</td>\n",
       "      <td>0.0</td>\n",
       "      <td>0.0</td>\n",
       "      <td>0.0</td>\n",
       "      <td>1.0</td>\n",
       "      <td>0.0</td>\n",
       "      <td>0.0</td>\n",
       "      <td>0.0</td>\n",
       "      <td>0.0</td>\n",
       "      <td>0.0</td>\n",
       "      <td>1.0</td>\n",
       "      <td>1.0</td>\n",
       "      <td>0.0</td>\n",
       "      <td>0.0</td>\n",
       "      <td>1.0</td>\n",
       "      <td>0.0</td>\n",
       "    </tr>\n",
       "  </tbody>\n",
       "</table>\n",
       "</div>"
      ],
      "text/plain": [
       "   sex_f  sex_m  diet_anything  diet_halal  diet_kosher  diet_other  \\\n",
       "0    0.0    1.0            1.0         0.0          0.0         0.0   \n",
       "1    0.0    1.0            0.0         0.0          0.0         1.0   \n",
       "\n",
       "   diet_vegan  diet_vegetarian  drinks_desperately  drinks_not at all  \\\n",
       "0         0.0              0.0                 0.0                0.0   \n",
       "1         0.0              0.0                 0.0                0.0   \n",
       "\n",
       "   drinks_often  drinks_rarely  drinks_socially  drinks_very often  \\\n",
       "0           0.0            0.0              1.0                0.0   \n",
       "1           1.0            0.0              0.0                0.0   \n",
       "\n",
       "   drugs_never  drugs_often  drugs_sometimes  smokes_no  smokes_sometimes  \\\n",
       "0          1.0          0.0              0.0        0.0               1.0   \n",
       "1          0.0          0.0              1.0        1.0               0.0   \n",
       "\n",
       "   smokes_yes  body_type_fit  body_type_unfit  \n",
       "0         0.0            0.0              1.0  \n",
       "1         0.0            1.0              0.0  "
      ]
     },
     "execution_count": 108,
     "metadata": {},
     "output_type": "execute_result"
    }
   ],
   "source": [
    "df_classif_dummies = pd.get_dummies(df_clean_classif, columns=['sex', 'diet', 'drinks', 'drugs', 'smokes', 'body_type'])\n",
    "df_classif_dummies.head(2)"
   ]
  },
  {
   "cell_type": "code",
   "execution_count": 109,
   "metadata": {
    "collapsed": true
   },
   "outputs": [],
   "source": [
    "#x_vals = df_classif_dummies.drop('body_type', axis = 1)\n",
    "x_vals = df_classif_dummies.drop('sex_m', axis=1)\n",
    "x_vals = x_vals.drop('sex_f', axis=1)\n",
    "\n",
    "#x_vals.columns\n",
    "\n",
    "#y_vals = df_classif_dummies['body_type']\n",
    "y_vals = df_classif_dummies[['sex_m', 'sex_f']]\n",
    "\n",
    "#y_vals.value_counts()\n",
    "\n",
    "x_train_class, x_test_class, y_train_class, y_test_class =\\\n",
    "train_test_split(x_vals, y_vals, train_size = 0.8, test_size = 0.2,random_state = 60)"
   ]
  },
  {
   "cell_type": "code",
   "execution_count": 110,
   "metadata": {},
   "outputs": [
    {
     "name": "stdout",
     "output_type": "stream",
     "text": [
      "[0.56111817026683608, 0.45048708174502328, 0.56272765777213041, 0.40093180855569671, 0.60330368487928843, 0.47318932655654383, 0.602287166454892, 0.53197797543413805, 0.61956797966963151, 0.57348581109699281, 0.62304108428631932, 0.59491740787801783, 0.63583227445997459, 0.59517153748411689, 0.64032189750105883, 0.58788648877594241, 0.63896653960186367, 0.58026260059296908, 0.63862770012706482, 0.52469292672596357, 0.61050402371876322, 0.59678102498941121, 0.60974163490046596, 0.56094875052943671, 0.63964421855146125]\n"
     ]
    }
   ],
   "source": [
    "#finding the best k value for the model\n",
    "scores = []\n",
    "\n",
    "# We use a loop through the range 1 to 26\n",
    "# We append the scores in the dictionary\n",
    "for k in range(1,26):3\n",
    "    knn = KNeighborsClassifier(n_neighbors=k)\n",
    "    knn.fit(x_train_class, y_train_class)\n",
    "    y_pred_class = knn.predict(x_test_class)\n",
    "    scores.append(metrics.accuracy_score(y_test_class, y_pred_class))\n",
    "\n",
    "print(scores)"
   ]
  },
  {
   "cell_type": "code",
   "execution_count": 111,
   "metadata": {
    "collapsed": true
   },
   "outputs": [],
   "source": [
    "num_neighbors = np.arange(1,20)\n",
    "\n",
    "train_accuracy = np.empty(len(num_neighbors))\n",
    "test_accuracy = np.empty(len(num_neighbors))\n",
    "\n",
    "for i,k in enumerate(num_neighbors):\n",
    "    #create the classifier\n",
    "    knn_class = KNeighborsClassifier(n_neighbors=k)\n",
    "    \n",
    "    #fit the model \n",
    "    knn_class.fit(x_train_class, y_train_class)\n",
    "    \n",
    "    #accuracy of training\n",
    "    train_accuracy[i] = knn_class.score(x_train_class, y_train_class)\n",
    "    \n",
    "    #accuracy of test\n",
    "    test_accuracy[i] = knn_class.score(x_test_class, y_test_class)"
   ]
  },
  {
   "cell_type": "code",
   "execution_count": 112,
   "metadata": {},
   "outputs": [
    {
     "data": {
      "image/png": "[encoded data removed]",
      "text/plain": [
       "<matplotlib.figure.Figure at 0x2f63b278>"
      ]
     },
     "metadata": {},
     "output_type": "display_data"
    }
   ],
   "source": [
    "#plotting the training vs testing accuracy based on the number of neighbors for KNN\n",
    "plt.plot(num_neighbors, test_accuracy, label = 'Testing Accuracy')\n",
    "plt.plot(num_neighbors, train_accuracy, label = 'Training Accuracy')\n",
    "\n",
    "plt.title('Training vs Testing Accuracy with Varying number of neighbors for KNN')\n",
    "plt.xlabel('# of neighbors')\n",
    "plt.ylabel('Accuracy')\n",
    "plt.legend()\n",
    "plt.show()"
   ]
  },
  {
   "cell_type": "code",
   "execution_count": 113,
   "metadata": {},
   "outputs": [
    {
     "data": {
      "image/png": "[encoded data removed]",
      "text/plain": [
       "<matplotlib.figure.Figure at 0x21967208>"
      ]
     },
     "metadata": {},
     "output_type": "display_data"
    }
   ],
   "source": [
    "curve2 = pd.DataFrame(scores) #elbow curve \n",
    "curve2.plot()\n",
    "plt.xlabel('# of Neighbors')\n",
    "plt.ylabel('Accuracy')\n",
    "plt.show()"
   ]
  },
  {
   "cell_type": "markdown",
   "metadata": {},
   "source": [
    "From the above plot we are able to see that the optimal number of neighbors keeps increasing the more neighbors. We want to ensure that the trade of between accuracy and # of neighbors \"works\". \n",
    "<br> At around 5 neighbors we have an **accuracy of 0.60330368487928843**. This accuracy does increase slightly with more neighbors but because we need to find the balance between the number of neighbors and accuracy, we will say 5 is the optimal number of neighbors. "
   ]
  },
  {
   "cell_type": "code",
   "execution_count": 140,
   "metadata": {},
   "outputs": [
    {
     "name": "stdout",
     "output_type": "stream",
     "text": [
      "Training Time: 0.010000 s\n",
      "Prediction time: 0.011000 s\n"
     ]
    },
    {
     "data": {
      "text/plain": [
       "array([[ 0.,  1.],\n",
       "       [ 0.,  1.],\n",
       "       [ 1.,  0.],\n",
       "       ..., \n",
       "       [ 1.,  0.],\n",
       "       [ 0.,  1.],\n",
       "       [ 1.,  0.]])"
      ]
     },
     "execution_count": 140,
     "metadata": {},
     "output_type": "execute_result"
    }
   ],
   "source": [
    "#Creating the KNN model\n",
    "knn_model = KNeighborsClassifier(n_neighbors=5)\n",
    "\n",
    "\n",
    "#fitting the model\n",
    "knn_model.fit(x_train_class, y_train_class)\n",
    "\n",
    "t0 = timeit.timeit()\n",
    "print(\"Training Time: %f\" %round(t0, 3) + \" s\")\n",
    "\n",
    "#classifying points\n",
    "y_predict = knn_model.predict(x_test_class)\n",
    "t1 = timeit.timeit()\n",
    "print(\"Prediction time: %f\" %round(t1, 3) + \" s\")\n",
    "\n",
    "y_predict"
   ]
  },
  {
   "cell_type": "code",
   "execution_count": 116,
   "metadata": {},
   "outputs": [
    {
     "name": "stdout",
     "output_type": "stream",
     "text": [
      "Model Accuracy: 0.603304\n"
     ]
    },
    {
     "data": {
      "text/html": [
       "<div>\n",
       "<table border=\"1\" class=\"dataframe\">\n",
       "  <thead>\n",
       "    <tr style=\"text-align: right;\">\n",
       "      <th>Predicted</th>\n",
       "      <th>0.0</th>\n",
       "      <th>All</th>\n",
       "    </tr>\n",
       "    <tr>\n",
       "      <th>True</th>\n",
       "      <th></th>\n",
       "      <th></th>\n",
       "    </tr>\n",
       "  </thead>\n",
       "  <tbody>\n",
       "    <tr>\n",
       "      <th>0.0</th>\n",
       "      <td>7151</td>\n",
       "      <td>7151</td>\n",
       "    </tr>\n",
       "    <tr>\n",
       "      <th>1.0</th>\n",
       "      <td>4654</td>\n",
       "      <td>4654</td>\n",
       "    </tr>\n",
       "    <tr>\n",
       "      <th>All</th>\n",
       "      <td>11805</td>\n",
       "      <td>11805</td>\n",
       "    </tr>\n",
       "  </tbody>\n",
       "</table>\n",
       "</div>"
      ],
      "text/plain": [
       "Predicted    0.0    All\n",
       "True                   \n",
       "0.0         7151   7151\n",
       "1.0         4654   4654\n",
       "All        11805  11805"
      ]
     },
     "execution_count": 116,
     "metadata": {},
     "output_type": "execute_result"
    }
   ],
   "source": [
    "#getting the accuracy of the knn model\n",
    "print('Model Accuracy: %f' %knn_model.score(x_test_class, y_test_class))\n",
    "\n",
    "\n",
    "\n",
    "#can i still use the crosstab if i start using the dummy variables for sex??\n",
    "#using crosstab to see the predictions\n",
    "pd.crosstab(y_test_class['sex_f'], y_predict[0][0], rownames=['True'], colnames=['Predicted'], margins=True)"
   ]
  },
  {
   "cell_type": "code",
   "execution_count": 117,
   "metadata": {},
   "outputs": [
    {
     "name": "stdout",
     "output_type": "stream",
     "text": [
      "             precision    recall  f1-score   support\n",
      "\n",
      "          0       0.64      0.77      0.70      7151\n",
      "          1       0.50      0.34      0.41      4654\n",
      "\n",
      "avg / total       0.59      0.60      0.59     11805\n",
      "\n"
     ]
    }
   ],
   "source": [
    "#printing metrics: precision, recall and f1-score\n",
    "print(classification_report(y_test_class,y_predict))"
   ]
  },
  {
   "cell_type": "markdown",
   "metadata": {},
   "source": [
    "From the above tables we are able to see that the model has mispredicted 4,654 cases. The cases were supposed to be 1 (or Males) but the model has predicted them to be 0 (or Females).\n",
    "<br>The model accuracy has been calculated at 0.603304"
   ]
  },
  {
   "cell_type": "markdown",
   "metadata": {},
   "source": [
    "# 7 - Classification (SVM)"
   ]
  },
  {
   "cell_type": "code",
   "execution_count": 119,
   "metadata": {},
   "outputs": [
    {
     "data": {
      "text/html": [
       "<div>\n",
       "<table border=\"1\" class=\"dataframe\">\n",
       "  <thead>\n",
       "    <tr style=\"text-align: right;\">\n",
       "      <th></th>\n",
       "      <th>sex</th>\n",
       "      <th>diet_anything</th>\n",
       "      <th>diet_halal</th>\n",
       "      <th>diet_kosher</th>\n",
       "      <th>diet_other</th>\n",
       "      <th>diet_vegan</th>\n",
       "      <th>diet_vegetarian</th>\n",
       "      <th>drinks_desperately</th>\n",
       "      <th>drinks_not at all</th>\n",
       "      <th>drinks_often</th>\n",
       "      <th>drinks_rarely</th>\n",
       "      <th>drinks_socially</th>\n",
       "      <th>drinks_very often</th>\n",
       "      <th>drugs_never</th>\n",
       "      <th>drugs_often</th>\n",
       "      <th>drugs_sometimes</th>\n",
       "      <th>smokes_no</th>\n",
       "      <th>smokes_sometimes</th>\n",
       "      <th>smokes_yes</th>\n",
       "      <th>body_type_fit</th>\n",
       "      <th>body_type_unfit</th>\n",
       "    </tr>\n",
       "  </thead>\n",
       "  <tbody>\n",
       "    <tr>\n",
       "      <th>0</th>\n",
       "      <td>m</td>\n",
       "      <td>1.0</td>\n",
       "      <td>0.0</td>\n",
       "      <td>0.0</td>\n",
       "      <td>0.0</td>\n",
       "      <td>0.0</td>\n",
       "      <td>0.0</td>\n",
       "      <td>0.0</td>\n",
       "      <td>0.0</td>\n",
       "      <td>0.0</td>\n",
       "      <td>0.0</td>\n",
       "      <td>1.0</td>\n",
       "      <td>0.0</td>\n",
       "      <td>1.0</td>\n",
       "      <td>0.0</td>\n",
       "      <td>0.0</td>\n",
       "      <td>0.0</td>\n",
       "      <td>1.0</td>\n",
       "      <td>0.0</td>\n",
       "      <td>0.0</td>\n",
       "      <td>1.0</td>\n",
       "    </tr>\n",
       "    <tr>\n",
       "      <th>1</th>\n",
       "      <td>m</td>\n",
       "      <td>0.0</td>\n",
       "      <td>0.0</td>\n",
       "      <td>0.0</td>\n",
       "      <td>1.0</td>\n",
       "      <td>0.0</td>\n",
       "      <td>0.0</td>\n",
       "      <td>0.0</td>\n",
       "      <td>0.0</td>\n",
       "      <td>1.0</td>\n",
       "      <td>0.0</td>\n",
       "      <td>0.0</td>\n",
       "      <td>0.0</td>\n",
       "      <td>0.0</td>\n",
       "      <td>0.0</td>\n",
       "      <td>1.0</td>\n",
       "      <td>1.0</td>\n",
       "      <td>0.0</td>\n",
       "      <td>0.0</td>\n",
       "      <td>1.0</td>\n",
       "      <td>0.0</td>\n",
       "    </tr>\n",
       "  </tbody>\n",
       "</table>\n",
       "</div>"
      ],
      "text/plain": [
       "  sex  diet_anything  diet_halal  diet_kosher  diet_other  diet_vegan  \\\n",
       "0   m            1.0         0.0          0.0         0.0         0.0   \n",
       "1   m            0.0         0.0          0.0         1.0         0.0   \n",
       "\n",
       "   diet_vegetarian  drinks_desperately  drinks_not at all  drinks_often  \\\n",
       "0              0.0                 0.0                0.0           0.0   \n",
       "1              0.0                 0.0                0.0           1.0   \n",
       "\n",
       "   drinks_rarely  drinks_socially  drinks_very often  drugs_never  \\\n",
       "0            0.0              1.0                0.0          1.0   \n",
       "1            0.0              0.0                0.0          0.0   \n",
       "\n",
       "   drugs_often  drugs_sometimes  smokes_no  smokes_sometimes  smokes_yes  \\\n",
       "0          0.0              0.0        0.0               1.0         0.0   \n",
       "1          0.0              1.0        1.0               0.0         0.0   \n",
       "\n",
       "   body_type_fit  body_type_unfit  \n",
       "0            0.0              1.0  \n",
       "1            1.0              0.0  "
      ]
     },
     "execution_count": 119,
     "metadata": {},
     "output_type": "execute_result"
    }
   ],
   "source": [
    "df_clean_classif = df_clean[['sex','diet', 'body_type', 'drinks', 'drugs', 'smokes']]\n",
    "df_clean_classif.head(2)\n",
    "\n",
    "\n",
    "df_dummies = pd.get_dummies(df_clean_classif, columns=['diet', 'drinks', 'drugs', 'smokes', 'body_type'])\n",
    "#df_dummies = df_clean_classif.dummmies([['diet', 'body_type', 'drinks', 'drugs', 'smokes']])\n",
    "df_dummies.head(2)"
   ]
  },
  {
   "cell_type": "code",
   "execution_count": 120,
   "metadata": {
    "collapsed": true
   },
   "outputs": [],
   "source": [
    "x_vals_svc = df_dummies.drop('sex', axis=1)\n",
    "x_vals_svc\n",
    "\n",
    "y_vals_svc = df_dummies['sex']\n",
    "y_vals_svc\n",
    "\n",
    "\n",
    "x_train_svc, x_test_svc, y_train_svc, y_test_svc = \\\n",
    "train_test_split(x_vals_svc, y_vals_svc, train_size = 0.8, test_size = 0.2,random_state = 60)"
   ]
  },
  {
   "cell_type": "code",
   "execution_count": 139,
   "metadata": {},
   "outputs": [
    {
     "name": "stdout",
     "output_type": "stream",
     "text": [
      "Training Time: 0.011000 s\n",
      "Prediction time: 0.011000 s\n",
      "\n",
      "\n",
      "['f' 'm' 'm' ..., 'f' 'f' 'm']\n"
     ]
    }
   ],
   "source": [
    "#recall the variables used above x_train_class, x_test_class, y_train_class, y_test_class\n",
    "\n",
    "#create SVC classifier\n",
    "svc_classif = SVC(random_state=60) #using the default rbf with no parameters we have a classifiction accuracy of 0.7069\n",
    "#gamma = 0.05 --> accuracy is 0.706957\n",
    "#svc_classif = SVC(kernel = 'rbf', gamma = 0.05)\n",
    "\n",
    "#train the model\n",
    "svc_classif.fit(x_train_svc, y_train_svc)\n",
    "t0 = timeit.timeit()\n",
    "print(\"Training Time: %f\" %round(t0, 3) + \" s\")\n",
    "\n",
    "\n",
    "y_predict_svc = svc_classif.predict(x_test_svc)\n",
    "t1 = timeit.timeit()\n",
    "print(\"Prediction time: %f\" %round(t1, 3) + \" s\")\n",
    "\n",
    "print('\\n')\n",
    "print(y_predict_svc)"
   ]
  },
  {
   "cell_type": "code",
   "execution_count": 122,
   "metadata": {},
   "outputs": [
    {
     "data": {
      "text/plain": [
       "0.64938585345192712"
      ]
     },
     "execution_count": 122,
     "metadata": {},
     "output_type": "execute_result"
    }
   ],
   "source": [
    "#checking the classifiers accuracy\n",
    "svc_classif.score(x_test_svc, y_test_svc)"
   ]
  },
  {
   "cell_type": "code",
   "execution_count": 228,
   "metadata": {},
   "outputs": [
    {
     "name": "stdout",
     "output_type": "stream",
     "text": [
      "             precision    recall  f1-score   support\n",
      "\n",
      "          f       0.57      0.46      0.51      4654\n",
      "          m       0.69      0.77      0.73      7151\n",
      "\n",
      "avg / total       0.64      0.65      0.64     11805\n",
      "\n"
     ]
    }
   ],
   "source": [
    "print(classification_report(y_test_svc,y_predict_svc))"
   ]
  },
  {
   "cell_type": "markdown",
   "metadata": {},
   "source": [
    "# Conclusions"
   ]
  },
  {
   "cell_type": "markdown",
   "metadata": {},
   "source": [
    "Most of the data from the dataset is text. There are only 3 columns that are numerical: age, height, income.\n",
    "\n",
    "There are 59,946 entries.\n",
    "2 columns have 40% or more of the entries missing: \n",
    "-  59% of the offspring entries are missing.\n",
    "-  41% of the diet entries are missing.\n",
    "\n",
    "48,442 (or ~ 81%) of the data contains -1 as the amount. This most likely indicate that people did not want to share their income and have left the entry either blank or enetered -1 as the value.\n",
    "\n",
    "There are heights that appear to be less than 5 feet (60 inches) and over 6.6 feet (80 inches). We will set the criteria to only include people whose height are between 60 inches and 80 inches.\n",
    "Using this criteria 413 rows will be removed.\n",
    "\n",
    "Quick summary of the most entered values:\n",
    "\n",
    "The average female is around 25 years old, with average body type, graduated from university/college, a height of 64 inches (~5.3 feet),  did not report her income, has a job title of \"other\", of white ethnicity, with no kids, straight, doesn't smoke, single and speaks english.\n",
    "\n",
    "The average males is around 26 years old, with an athletic body type, graduated from university/college, has a height of 70 inches (~5.8 feet), did not report his income, has a job title of \"computer / hardware / software\", of white ethnicity, with no kids, straight and speaks english.\n",
    "\n",
    "24,117 (or 40%) of the profiles belong to females.\n",
    "\n",
    "Males make about 28% more than the females based on the self reported income, and excluding values of -1 and of 1 million.\n",
    "\n",
    "2 profiles indicate that they are 109 and 110 years old.\n",
    "\n",
    "From the plots we can see that most (30,017 or ~50%) of the profiles indicate an age between 21 and 30.\n",
    "There are about 3,584 people over 50 years old\n",
    "\n",
    "1,683 people indicated that they have some sort of education or work in space camp\n"
   ]
  }
 ],
 "metadata": {
  "kernelspec": {
   "display_name": "Python 2",
   "language": "python",
   "name": "python2"
  },
  "language_info": {
   "codemirror_mode": {
    "name": "ipython",
    "version": 2
   },
   "file_extension": ".py",
   "mimetype": "text/x-python",
   "name": "python",
   "nbconvert_exporter": "python",
   "pygments_lexer": "ipython2",
   "version": "2.7.11"
  }
 },
 "nbformat": 4,
 "nbformat_minor": 2
}
